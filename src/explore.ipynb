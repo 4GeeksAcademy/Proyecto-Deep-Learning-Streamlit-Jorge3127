{
    "cells": [
        {
            "cell_type": "markdown",
            "metadata": {},
            "source": [
                "# Explore here"
            ]
        },
        {
            "cell_type": "code",
            "execution_count": 1,
            "metadata": {},
            "outputs": [
                {
                    "name": "stderr",
                    "output_type": "stream",
                    "text": [
                        "2024-12-23 20:16:20.670 WARNING streamlit.runtime.scriptrunner_utils.script_run_context: Thread 'MainThread': missing ScriptRunContext! This warning can be ignored when running in bare mode.\n",
                        "2024-12-23 20:16:20.739 \n",
                        "  \u001b[33m\u001b[1mWarning:\u001b[0m to view this Streamlit app on a browser, run it with the following\n",
                        "  command:\n",
                        "\n",
                        "    streamlit run /home/vscode/.local/lib/python3.10/site-packages/ipykernel_launcher.py [ARGUMENTS]\n",
                        "2024-12-23 20:16:20.740 Thread 'MainThread': missing ScriptRunContext! This warning can be ignored when running in bare mode.\n",
                        "2024-12-23 20:16:20.741 Thread 'MainThread': missing ScriptRunContext! This warning can be ignored when running in bare mode.\n",
                        "2024-12-23 20:16:20.742 Thread 'MainThread': missing ScriptRunContext! This warning can be ignored when running in bare mode.\n",
                        "2024-12-23 20:16:20.743 Thread 'MainThread': missing ScriptRunContext! This warning can be ignored when running in bare mode.\n",
                        "2024-12-23 20:16:20.743 Thread 'MainThread': missing ScriptRunContext! This warning can be ignored when running in bare mode.\n",
                        "2024-12-23 20:16:20.744 Session state does not function when running a script without `streamlit run`\n",
                        "2024-12-23 20:16:20.745 Thread 'MainThread': missing ScriptRunContext! This warning can be ignored when running in bare mode.\n",
                        "2024-12-23 20:16:20.746 Thread 'MainThread': missing ScriptRunContext! This warning can be ignored when running in bare mode.\n",
                        "2024-12-23 20:16:20.747 Thread 'MainThread': missing ScriptRunContext! This warning can be ignored when running in bare mode.\n",
                        "2024-12-23 20:16:20.748 Thread 'MainThread': missing ScriptRunContext! This warning can be ignored when running in bare mode.\n",
                        "2024-12-23 20:16:20.748 Thread 'MainThread': missing ScriptRunContext! This warning can be ignored when running in bare mode.\n",
                        "2024-12-23 20:16:20.749 Thread 'MainThread': missing ScriptRunContext! This warning can be ignored when running in bare mode.\n",
                        "2024-12-23 20:16:20.750 Thread 'MainThread': missing ScriptRunContext! This warning can be ignored when running in bare mode.\n",
                        "2024-12-23 20:16:20.751 Thread 'MainThread': missing ScriptRunContext! This warning can be ignored when running in bare mode.\n",
                        "2024-12-23 20:16:20.752 Thread 'MainThread': missing ScriptRunContext! This warning can be ignored when running in bare mode.\n",
                        "2024-12-23 20:16:20.752 Thread 'MainThread': missing ScriptRunContext! This warning can be ignored when running in bare mode.\n",
                        "2024-12-23 20:16:20.753 Thread 'MainThread': missing ScriptRunContext! This warning can be ignored when running in bare mode.\n",
                        "2024-12-23 20:16:20.754 Thread 'MainThread': missing ScriptRunContext! This warning can be ignored when running in bare mode.\n",
                        "2024-12-23 20:16:20.755 Thread 'MainThread': missing ScriptRunContext! This warning can be ignored when running in bare mode.\n",
                        "2024-12-23 20:16:20.755 Thread 'MainThread': missing ScriptRunContext! This warning can be ignored when running in bare mode.\n",
                        "2024-12-23 20:16:20.756 Thread 'MainThread': missing ScriptRunContext! This warning can be ignored when running in bare mode.\n",
                        "2024-12-23 20:16:20.756 Thread 'MainThread': missing ScriptRunContext! This warning can be ignored when running in bare mode.\n",
                        "2024-12-23 20:16:20.757 Thread 'MainThread': missing ScriptRunContext! This warning can be ignored when running in bare mode.\n",
                        "2024-12-23 20:16:20.759 Thread 'MainThread': missing ScriptRunContext! This warning can be ignored when running in bare mode.\n",
                        "2024-12-23 20:16:20.759 Thread 'MainThread': missing ScriptRunContext! This warning can be ignored when running in bare mode.\n",
                        "2024-12-23 20:16:20.760 Thread 'MainThread': missing ScriptRunContext! This warning can be ignored when running in bare mode.\n",
                        "2024-12-23 20:16:20.761 Thread 'MainThread': missing ScriptRunContext! This warning can be ignored when running in bare mode.\n",
                        "2024-12-23 20:16:20.761 Thread 'MainThread': missing ScriptRunContext! This warning can be ignored when running in bare mode.\n",
                        "2024-12-23 20:16:20.762 Thread 'MainThread': missing ScriptRunContext! This warning can be ignored when running in bare mode.\n",
                        "2024-12-23 20:16:20.764 Thread 'MainThread': missing ScriptRunContext! This warning can be ignored when running in bare mode.\n",
                        "2024-12-23 20:16:20.765 Thread 'MainThread': missing ScriptRunContext! This warning can be ignored when running in bare mode.\n",
                        "2024-12-23 20:16:20.766 Thread 'MainThread': missing ScriptRunContext! This warning can be ignored when running in bare mode.\n",
                        "2024-12-23 20:16:20.767 Thread 'MainThread': missing ScriptRunContext! This warning can be ignored when running in bare mode.\n",
                        "2024-12-23 20:16:20.768 Thread 'MainThread': missing ScriptRunContext! This warning can be ignored when running in bare mode.\n",
                        "2024-12-23 20:16:20.770 Thread 'MainThread': missing ScriptRunContext! This warning can be ignored when running in bare mode.\n",
                        "2024-12-23 20:16:20.770 Thread 'MainThread': missing ScriptRunContext! This warning can be ignored when running in bare mode.\n",
                        "2024-12-23 20:16:20.771 Thread 'MainThread': missing ScriptRunContext! This warning can be ignored when running in bare mode.\n",
                        "2024-12-23 20:16:20.772 Thread 'MainThread': missing ScriptRunContext! This warning can be ignored when running in bare mode.\n",
                        "2024-12-23 20:16:20.772 Thread 'MainThread': missing ScriptRunContext! This warning can be ignored when running in bare mode.\n",
                        "2024-12-23 20:16:20.773 Thread 'MainThread': missing ScriptRunContext! This warning can be ignored when running in bare mode.\n",
                        "2024-12-23 20:16:20.773 Thread 'MainThread': missing ScriptRunContext! This warning can be ignored when running in bare mode.\n",
                        "2024-12-23 20:16:20.774 Thread 'MainThread': missing ScriptRunContext! This warning can be ignored when running in bare mode.\n",
                        "2024-12-23 20:16:20.774 Thread 'MainThread': missing ScriptRunContext! This warning can be ignored when running in bare mode.\n"
                    ]
                }
            ],
            "source": [
                "# Your code here\n",
                "from pickle import load\n",
                "import streamlit as st\n",
                "import os\n",
                "\n",
                "\n",
                "# Ruta al archivo del modelo\n",
                "model = (\"/opt/render/project/src/models/modelo_adaboost_optimizado (3).pkl\", \"rb\")\n",
                "\n",
                "\n",
                "# Diccionario de clases\n",
                "class_dict = {\n",
                "    \"0\": \"Diabético\",\n",
                "    \"1\": \"No Diabético\",\n",
                "}\n",
                "\n",
                "# Título de la aplicación\n",
                "st.title(\"Predicción de Diabetes\")\n",
                "\n",
                "# Sliders para ingresar los valores del formulario\n",
                "val1 = st.slider(\"Embarazos\", min_value=0, max_value=20, step=1)\n",
                "val2 = st.slider(\"Glucosa\", min_value=0, max_value=200, step=1)\n",
                "val3 = st.slider(\"Insulina\", min_value=0, max_value=800, step=1)\n",
                "val4 = st.slider(\"Índice de Masa Corporal (BMI)\", min_value=0.0, max_value=70.0, step=0.1)\n",
                "val5 = st.slider(\"Función de Diabetes\", min_value=0.0, max_value=3.0, step=0.1)\n",
                "val6 = st.slider(\"Edad\", min_value=0, max_value=100, step=1)\n",
                "\n",
                "# Botón de predicción\n",
                "if st.button(\"Predecir Diabetes\"):\n",
                "    data = [[val1, val2, val3, val4, val5, val6]]\n",
                "    prediction = str(model.predict(data)[0])\n",
                "    pred_class = class_dict[prediction]\n",
                "    st.write(\"Predicción:\", pred_class)\n",
                "\n"
            ]
        }
    ],
    "metadata": {
        "kernelspec": {
            "display_name": "Python 3",
            "language": "python",
            "name": "python3"
        },
        "language_info": {
            "codemirror_mode": {
                "name": "ipython",
                "version": 3
            },
            "file_extension": ".py",
            "mimetype": "text/x-python",
            "name": "python",
            "nbconvert_exporter": "python",
            "pygments_lexer": "ipython3",
            "version": "3.10.12"
        },
        "orig_nbformat": 4
    },
    "nbformat": 4,
    "nbformat_minor": 2
}
