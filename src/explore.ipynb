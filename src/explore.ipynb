{
    "cells": [
        {
            "cell_type": "markdown",
            "metadata": {},
            "source": [
                "# Explore here"
            ]
        },
        {
            "cell_type": "code",
            "execution_count": 9,
            "metadata": {},
            "outputs": [
                {
                    "ename": "FileNotFoundError",
                    "evalue": "[Errno 2] No such file or directory: 'opt/render/project/src/models/modelo_adaboost_best_ada.pkl'",
                    "output_type": "error",
                    "traceback": [
                        "\u001b[0;31m---------------------------------------------------------------------------\u001b[0m",
                        "\u001b[0;31mFileNotFoundError\u001b[0m                         Traceback (most recent call last)",
                        "Cell \u001b[0;32mIn[9], line 9\u001b[0m\n\u001b[1;32m      6\u001b[0m \u001b[38;5;28;01mfrom\u001b[39;00m \u001b[38;5;21;01msklearn\u001b[39;00m\u001b[38;5;21;01m.\u001b[39;00m\u001b[38;5;21;01mensemble\u001b[39;00m \u001b[38;5;28;01mimport\u001b[39;00m AdaBoostClassifier\n\u001b[1;32m      8\u001b[0m \u001b[38;5;66;03m# Ruta al archivo del modelo\u001b[39;00m\n\u001b[0;32m----> 9\u001b[0m model \u001b[38;5;241m=\u001b[39m load(\u001b[38;5;28;43mopen\u001b[39;49m\u001b[43m(\u001b[49m\u001b[38;5;124;43m\"\u001b[39;49m\u001b[38;5;124;43mopt/render/project/src/models/modelo_adaboost_best_ada.pkl\u001b[39;49m\u001b[38;5;124;43m\"\u001b[39;49m\u001b[43m,\u001b[49m\u001b[43m \u001b[49m\u001b[38;5;124;43m\"\u001b[39;49m\u001b[38;5;124;43mrb\u001b[39;49m\u001b[38;5;124;43m\"\u001b[39;49m\u001b[43m)\u001b[49m)\n\u001b[1;32m     12\u001b[0m \u001b[38;5;66;03m# Verificar la existencia del archivo del modelo\u001b[39;00m\n\u001b[1;32m     13\u001b[0m \u001b[38;5;28;01mif\u001b[39;00m \u001b[38;5;129;01mnot\u001b[39;00m os\u001b[38;5;241m.\u001b[39mpath\u001b[38;5;241m.\u001b[39mexists(model):\n",
                        "File \u001b[0;32m~/.local/lib/python3.10/site-packages/IPython/core/interactiveshell.py:324\u001b[0m, in \u001b[0;36m_modified_open\u001b[0;34m(file, *args, **kwargs)\u001b[0m\n\u001b[1;32m    317\u001b[0m \u001b[38;5;28;01mif\u001b[39;00m file \u001b[38;5;129;01min\u001b[39;00m {\u001b[38;5;241m0\u001b[39m, \u001b[38;5;241m1\u001b[39m, \u001b[38;5;241m2\u001b[39m}:\n\u001b[1;32m    318\u001b[0m     \u001b[38;5;28;01mraise\u001b[39;00m \u001b[38;5;167;01mValueError\u001b[39;00m(\n\u001b[1;32m    319\u001b[0m         \u001b[38;5;124mf\u001b[39m\u001b[38;5;124m\"\u001b[39m\u001b[38;5;124mIPython won\u001b[39m\u001b[38;5;124m'\u001b[39m\u001b[38;5;124mt let you open fd=\u001b[39m\u001b[38;5;132;01m{\u001b[39;00mfile\u001b[38;5;132;01m}\u001b[39;00m\u001b[38;5;124m by default \u001b[39m\u001b[38;5;124m\"\u001b[39m\n\u001b[1;32m    320\u001b[0m         \u001b[38;5;124m\"\u001b[39m\u001b[38;5;124mas it is likely to crash IPython. If you know what you are doing, \u001b[39m\u001b[38;5;124m\"\u001b[39m\n\u001b[1;32m    321\u001b[0m         \u001b[38;5;124m\"\u001b[39m\u001b[38;5;124myou can use builtins\u001b[39m\u001b[38;5;124m'\u001b[39m\u001b[38;5;124m open.\u001b[39m\u001b[38;5;124m\"\u001b[39m\n\u001b[1;32m    322\u001b[0m     )\n\u001b[0;32m--> 324\u001b[0m \u001b[38;5;28;01mreturn\u001b[39;00m \u001b[43mio_open\u001b[49m\u001b[43m(\u001b[49m\u001b[43mfile\u001b[49m\u001b[43m,\u001b[49m\u001b[43m \u001b[49m\u001b[38;5;241;43m*\u001b[39;49m\u001b[43margs\u001b[49m\u001b[43m,\u001b[49m\u001b[43m \u001b[49m\u001b[38;5;241;43m*\u001b[39;49m\u001b[38;5;241;43m*\u001b[39;49m\u001b[43mkwargs\u001b[49m\u001b[43m)\u001b[49m\n",
                        "\u001b[0;31mFileNotFoundError\u001b[0m: [Errno 2] No such file or directory: 'opt/render/project/src/models/modelo_adaboost_best_ada.pkl'"
                    ]
                }
            ],
            "source": [
                "# Your code here\n",
                "import joblib\n",
                "import streamlit as st\n",
                "import os\n",
                "from pickle import load\n",
                "from sklearn.ensemble import AdaBoostClassifier\n",
                "\n",
                "# Ruta al archivo del modelo\n",
                "model = load(open(\"opt/render/project/src/models/modelo_adaboost_best_ada.pkl\", \"rb\"))\n",
                "\n",
                "\n",
                "# Verificar la existencia del archivo del modelo\n",
                "if not os.path.exists(model):\n",
                "    raise FileNotFoundError(f\"El archivo {model} no existe\")\n",
                "\n",
                "# Cargar el modelo\n",
                "model = joblib.load(model)\n",
                "\n",
                "# Verificar si el modelo está cargado correctamente\n",
                "if not isinstance(model, AdaBoostClassifier):\n",
                "    raise TypeError(\"El archivo cargado no es un modelo AdaBoostClassifier\")\n",
                "\n",
                "# Diccionario de clases\n",
                "class_dict = {\n",
                "    \"0\": \"Diabético\",\n",
                "    \"1\": \"No Diabético\",\n",
                "}\n",
                "\n",
                "# Título de la aplicación\n",
                "st.title(\"Predicción de Diabetes\")\n",
                "\n",
                "# Sliders para ingresar los valores del formulario\n",
                "val1 = st.slider(\"Embarazos\", min_value=0, max_value=20, step=1)\n",
                "val2 = st.slider(\"Glucosa\", min_value=0, max_value=200, step=1)\n",
                "val3 = st.slider(\"Insulina\", min_value=0, max_value=800, step=1)\n",
                "val4 = st.slider(\"Índice de Masa Corporal (BMI)\", min_value=0.0, max_value=70.0, step=0.1)\n",
                "val5 = st.slider(\"Función de Diabetes\", min_value=0.0, max_value=3.0, step=0.1)\n",
                "val6 = st.slider(\"Edad\", min_value=0, max_value=100, step=1)\n",
                "\n",
                "# Botón de predicción\n",
                "if st.button(\"Predecir\"):\n",
                "    data = [[val1, val2, val3, val4, val5, val6]]\n",
                "    prediction = str(model.predict(data)[0])\n",
                "    pred_class = class_dict[prediction]\n",
                "    st.write(\"Predicción:\", pred_class)\n"
            ]
        }
    ],
    "metadata": {
        "kernelspec": {
            "display_name": "Python 3",
            "language": "python",
            "name": "python3"
        },
        "language_info": {
            "codemirror_mode": {
                "name": "ipython",
                "version": 3
            },
            "file_extension": ".py",
            "mimetype": "text/x-python",
            "name": "python",
            "nbconvert_exporter": "python",
            "pygments_lexer": "ipython3",
            "version": "3.10.12"
        },
        "orig_nbformat": 4
    },
    "nbformat": 4,
    "nbformat_minor": 2
}
